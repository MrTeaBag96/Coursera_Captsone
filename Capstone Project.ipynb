{
 "cells": [
  {
   "cell_type": "markdown",
   "metadata": {},
   "source": [
    "# IBM Capstone Project: Segmenting and Clustering Suburbs in Melbourne"
   ]
  },
  {
   "cell_type": "markdown",
   "metadata": {},
   "source": [
    "## 1) Data Acquisition and Preparation"
   ]
  },
  {
   "cell_type": "code",
   "execution_count": null,
   "metadata": {
    "scrolled": true
   },
   "outputs": [
    {
     "name": "stdout",
     "output_type": "stream",
     "text": [
      "WARNING: pip is being invoked by an old script wrapper. This will fail in a future version of pip.\n",
      "Please see https://github.com/pypa/pip/issues/5599 for advice on fixing the underlying issue.\n",
      "To avoid this problem you can invoke Python with '-m pip' instead of running pip directly.\n",
      "Collecting xlrd\n",
      "  Downloading xlrd-1.2.0-py2.py3-none-any.whl (103 kB)\n",
      "\u001b[K     |████████████████████████████████| 103 kB 3.5 MB/s eta 0:00:01\n",
      "\u001b[?25hInstalling collected packages: xlrd\n",
      "Successfully installed xlrd-1.2.0\n",
      "Collecting package metadata (current_repodata.json): done\n",
      "Solving environment: \\ "
     ]
    }
   ],
   "source": [
    "import pandas as pd\n",
    "import numpy as np\n",
    "import requests\n",
    "from pandas.io.json import json_normalize # tranform JSON file into a pandas dataframe\n",
    "\n",
    "!pip install xlrd\n",
    "!conda install -c conda-forge geopy --yes\n",
    "!conda install -c conda-forge folium=0.5.0 --yes\n",
    "\n",
    "from geopy.geocoders import Nominatim\n",
    "import folium\n",
    "\n",
    "# Matplotlib and associated plotting modules\n",
    "import matplotlib.cm as cm\n",
    "import matplotlib.pyplot as plt\n",
    "import matplotlib.colors as colors\n",
    "\n",
    "\n",
    "\n",
    "# import k-means from clustering stage\n",
    "from scipy.spatial.distance import cdist\n",
    "from sklearn import metrics \n",
    "from sklearn.cluster import KMeans\n",
    "\n",
    "#!pip install bs4\n",
    "#from bs4 import BeautifulSoup\n",
    "\n",
    "print('Libraries imported.')"
   ]
  },
  {
   "cell_type": "markdown",
   "metadata": {},
   "source": [
    "### a) List of Melbourne Suburbs and Corresponding Post Codes"
   ]
  },
  {
   "cell_type": "code",
   "execution_count": null,
   "metadata": {
    "scrolled": true
   },
   "outputs": [],
   "source": [
    "# Obtaining data from csv for more reliable data: \n",
    "melb_suburb = pd.read_csv('melbourne_suburbs.csv')\n",
    "melb_suburb.columns.str.strip()\n",
    "melb_suburb.reset_index()\n",
    "melb_suburb\n"
   ]
  },
  {
   "cell_type": "markdown",
   "metadata": {},
   "source": [
    "### b) Suburb Population (will be used to choose which suburbs to analyze)"
   ]
  },
  {
   "cell_type": "code",
   "execution_count": null,
   "metadata": {},
   "outputs": [],
   "source": [
    "melb_population_forecast = pd.read_excel('Forecast_Pop_By_Area.xls')\n",
    "\n",
    "# Removing irrelevant columns and rows: \n",
    "melb_population_forecast.dropna(axis=0, inplace=True)\n",
    "melb_population_forecast.columns = melb_population_forecast.iloc[0]\n",
    "melb_population_forecast.drop(melb_population_forecast.index[0], axis=0, inplace=True)\n",
    "melb_population_forecast.drop(melb_population_forecast.index[6], axis=0, inplace=True)\n",
    "melb_population_forecast.drop(melb_population_forecast.index[11], axis=0, inplace=True)\n",
    "melb_population_forecast.drop(melb_population_forecast.index[11], axis=0, inplace=True)\n",
    "melb_population_forecast.drop(melb_population_forecast.index[0], axis=0, inplace=True)\n",
    "melb_population_forecast.drop(['Total change', '2016', 2026.0, 2031.0, 2036.0, 2041.0], axis=1,inplace=True)\n",
    "\n",
    "header_names = ['Suburb', '2021 Population Forecast', 'Avg. Annual % Change']\n",
    "melb_population_forecast.columns = header_names\n",
    "#melb_population_forecast['Suburb'] = melb_population_forecast.astype('str')\n",
    "\n",
    "# Sorting the table based on Forecasted Population 2021:\n",
    "melb_population_forecast.sort_values(['2021 Population Forecast'], inplace=True, ascending=False)\n",
    "\n",
    "melb_population_forecast"
   ]
  },
  {
   "cell_type": "code",
   "execution_count": null,
   "metadata": {},
   "outputs": [],
   "source": [
    "melb_population_forecast.drop('Avg. Annual % Change', axis=1, inplace=True)\n",
    "melb_pop_forecast_final = melb_population_forecast\n",
    "\n",
    "melb_pop_forecast_final"
   ]
  },
  {
   "cell_type": "markdown",
   "metadata": {},
   "source": [
    "Based on the Population Data above, we shall focus on the top 5/10 Most Populated Suburbs:"
   ]
  },
  {
   "cell_type": "markdown",
   "metadata": {},
   "source": [
    "### c) Merging the above dataframes: "
   ]
  },
  {
   "cell_type": "code",
   "execution_count": null,
   "metadata": {},
   "outputs": [],
   "source": [
    "# Creating a new dataframe by merging both dataframes: \n",
    "suburb_list = ['Melbourne (CBD)', 'Southbank', 'Carlton', 'North Melbourne', 'Docklands', 'Kensington', 'Parkville', 'East Melbourne', 'South Yarra', 'Port Melbourne']\n",
    "top_10_sub = melb_pop_forecast_final.loc[melb_pop_forecast_final['Suburb'].isin(suburb_list)]\n",
    "#top_10_sub.index = np.arange(1, len(test)+1)\n",
    "#top_10_sub\n",
    "\n",
    "melb_merged = top_10_sub.merge(melb_suburb, on='Suburb', how='left')\n",
    "#melb_merged.index = np.arange(1, len(melb_merged)+1)\n",
    "melb_merged"
   ]
  },
  {
   "cell_type": "markdown",
   "metadata": {},
   "source": [
    "melb_merged: to be used later for further analysis."
   ]
  },
  {
   "cell_type": "markdown",
   "metadata": {},
   "source": [
    "## 2) Exploring Melbourne"
   ]
  },
  {
   "cell_type": "markdown",
   "metadata": {},
   "source": [
    " First, let's take a look at ALL the suburbs!"
   ]
  },
  {
   "cell_type": "markdown",
   "metadata": {},
   "source": [
    "#### Visualizing Melbourne Suburbs using the Folium Library:"
   ]
  },
  {
   "cell_type": "code",
   "execution_count": null,
   "metadata": {},
   "outputs": [],
   "source": [
    "# Converting Melbourne address to coordinates:\n",
    "address = 'Melbourne, AU'\n",
    "\n",
    "geolocator = Nominatim(user_agent=\"Melbourne_explorer\")\n",
    "location = geolocator.geocode(address)\n",
    "latitude = location.latitude\n",
    "longitude = location.longitude\n",
    "print('The geograpical coordinate of Melbourne are {}, {}.'.format(latitude, longitude))"
   ]
  },
  {
   "cell_type": "code",
   "execution_count": null,
   "metadata": {},
   "outputs": [],
   "source": [
    "# Plotting map: \n",
    "map_melb = folium.Map(location=[latitude, longitude], zoom_start=12)\n",
    "\n",
    "# add markers to map\n",
    "for lat, lng, label in zip(melb_suburb['Latitude'], melb_suburb['Longitude'], melb_suburb['Suburb']):\n",
    "    label = folium.Popup(label, parse_html=True)\n",
    "    folium.CircleMarker(\n",
    "        [lat, lng],\n",
    "        radius=5,\n",
    "        popup=label,\n",
    "        color='blue',\n",
    "        fill=True,\n",
    "        fill_color='#3186cc',\n",
    "        fill_opacity=0.7,\n",
    "        parse_html=False).add_to(map_melb)  \n",
    "    \n",
    "map_melb"
   ]
  },
  {
   "cell_type": "markdown",
   "metadata": {},
   "source": [
    "#### Utilizing Foursquare APIs to Explore Venues around Melbourne"
   ]
  },
  {
   "cell_type": "code",
   "execution_count": null,
   "metadata": {},
   "outputs": [],
   "source": [
    "CLIENT_ID = 'QZC1WOXJRCQZY4TPL1WUWNMANFCAF4NVYUWE2PC2MRZKKQPS' # your Foursquare ID\n",
    "CLIENT_SECRET = 'FL25BYPAC1QNBL5SAKO0W0G20W5U4GDLDVHRHSAMQYPSNJFN' # your Foursquare Secret\n",
    "VERSION = '20180605' # Foursquare API version\n",
    "\n",
    "print('Your credentails:')\n",
    "print('CLIENT_ID: ' + CLIENT_ID)\n",
    "print('CLIENT_SECRET:' + CLIENT_SECRET)"
   ]
  },
  {
   "cell_type": "code",
   "execution_count": null,
   "metadata": {},
   "outputs": [],
   "source": [
    "# Getting top 100 venues within Melbourne CBD???\n",
    "# type your answer here\n",
    "LIMIT = 100\n",
    "radius = 500\n",
    "url = 'https://api.foursquare.com/v2/venues/explore?&client_id={}&client_secret={}&v={}&ll={},{}&radius={}&limit={}'.format(CLIENT_ID, CLIENT_SECRET, VERSION, latitude, longitude, radius, LIMIT)\n",
    "print(url)\n",
    "results = requests.get(url).json()\n",
    "#results"
   ]
  },
  {
   "cell_type": "markdown",
   "metadata": {},
   "source": [
    "#### Creating a function to get nearby venues around the suburbs in Melbourne"
   ]
  },
  {
   "cell_type": "code",
   "execution_count": null,
   "metadata": {},
   "outputs": [],
   "source": [
    "def getNearbyVenues(names, latitudes, longitudes, radius=500):\n",
    "    \n",
    "    venues_list=[]\n",
    "    for name, lat, lng in zip(names, latitudes, longitudes):\n",
    "        print(name)\n",
    "            \n",
    "        # create the API request URL\n",
    "        url = 'https://api.foursquare.com/v2/venues/explore?&client_id={}&client_secret={}&v={}&ll={},{}&radius={}&limit={}'.format(\n",
    "            CLIENT_ID, \n",
    "            CLIENT_SECRET, \n",
    "            VERSION, \n",
    "            lat, \n",
    "            lng, \n",
    "            radius, \n",
    "            LIMIT)\n",
    "            \n",
    "        # make the GET request\n",
    "        results = requests.get(url).json()[\"response\"]['groups'][0]['items']\n",
    "        \n",
    "        # return only relevant information for each nearby venue\n",
    "        venues_list.append([(\n",
    "            name, \n",
    "            lat, \n",
    "            lng, \n",
    "            v['venue']['name'], \n",
    "            v['venue']['location']['lat'], \n",
    "            v['venue']['location']['lng'],  \n",
    "            v['venue']['categories'][0]['name']) for v in results])\n",
    "\n",
    "    nearby_venues = pd.DataFrame([item for venue_list in venues_list for item in venue_list])\n",
    "    nearby_venues.columns = ['Suburb', \n",
    "                  'Suburb Latitude', \n",
    "                  'Suburb Longitude', \n",
    "                  'Venue', \n",
    "                  'Venue Latitude', \n",
    "                  'Venue Longitude', \n",
    "                  'Venue Category']\n",
    "    \n",
    "    return(nearby_venues)"
   ]
  },
  {
   "cell_type": "markdown",
   "metadata": {},
   "source": [
    "#### Calling the Function:"
   ]
  },
  {
   "cell_type": "code",
   "execution_count": null,
   "metadata": {
    "scrolled": true
   },
   "outputs": [],
   "source": [
    "# Creating dataframe to run the above function on each neighborhood \n",
    "# and create a new dataframe:\n",
    "melb_venues = getNearbyVenues(names=melb_suburb['Suburb'],\n",
    "                                   latitudes=melb_suburb['Latitude'],\n",
    "                                   longitudes=melb_suburb['Longitude']\n",
    "                                  )\n",
    "\n",
    "# check size of dataframe:\n",
    "print(melb_venues.shape)\n",
    "\n",
    "# how many unique categories\n",
    "print('\\n\\nThere are {} uniques categories.'.format(len(melb_venues['Venue Category'].unique())))"
   ]
  },
  {
   "cell_type": "code",
   "execution_count": null,
   "metadata": {
    "scrolled": true
   },
   "outputs": [],
   "source": [
    "melb_venues"
   ]
  },
  {
   "cell_type": "markdown",
   "metadata": {},
   "source": [
    "####   "
   ]
  },
  {
   "cell_type": "markdown",
   "metadata": {},
   "source": [
    "#### Results show that there are 196 unique categories. Let's look at the frequency of each categories:"
   ]
  },
  {
   "cell_type": "code",
   "execution_count": null,
   "metadata": {
    "scrolled": true
   },
   "outputs": [],
   "source": [
    "print(melb_venues['Venue Category'].value_counts())"
   ]
  },
  {
   "cell_type": "markdown",
   "metadata": {},
   "source": [
    "#### Let's thus create a Dataframe consisting of the 10 Most Frequently Occuring Venue Categories:"
   ]
  },
  {
   "cell_type": "code",
   "execution_count": null,
   "metadata": {},
   "outputs": [],
   "source": [
    "melb_top_venue_cat = melb_venues['Venue Category'].value_counts()[0:10].to_frame(name='Frequency')\n",
    "melb_top_venue_cat = melb_top_venue_cat.reset_index()\n",
    "melb_top_venue_cat.rename(index=str, columns={\"index\": \"Venue Category\"}, inplace=True)\n",
    "\n",
    "melb_top_venue_cat"
   ]
  },
  {
   "cell_type": "markdown",
   "metadata": {},
   "source": [
    "#### Here's what it looks like on a Bar Chart:"
   ]
  },
  {
   "cell_type": "code",
   "execution_count": null,
   "metadata": {},
   "outputs": [],
   "source": [
    "import seaborn as sns\n",
    "fig = plt.figure(figsize=(18,7))\n",
    "s = sns.barplot(x=\"Venue Category\", y=\"Frequency\", data=melb_top_venue_cat)\n",
    "s.set_xticklabels(s.get_xticklabels(), rotation=30)\n",
    "plt.title('Top 10 Venue Categories in Melbourne', fontsize=15)\n",
    "plt.xlabel(\"Venue Category\", fontsize=15)\n",
    "plt.ylabel (\"Frequency\", fontsize=15)\n",
    "plt.savefig(\"Most_Freq_Venues.png\", dpi=300)\n",
    "plt.show()"
   ]
  },
  {
   "cell_type": "markdown",
   "metadata": {},
   "source": [
    "As expected, the most common venue categories are Cafes and Coffee Shops! Melbournians do love their coffee!"
   ]
  },
  {
   "cell_type": "markdown",
   "metadata": {},
   "source": [
    "#### In fact, we can also compare the number of Cafes/Coffee Shops in each suburb:"
   ]
  },
  {
   "cell_type": "code",
   "execution_count": null,
   "metadata": {},
   "outputs": [],
   "source": [
    "# creating a dataframe of all cafes around Melbourne\n",
    "top_melb_cafe = melb_venues[melb_venues['Venue Category'].str.contains('Coffee Shop|Café|Cafe')].reset_index(drop=True)\n",
    "\n",
    "print(top_melb_cafe.shape)\n",
    "#top_melb_cafe\n",
    "\n",
    "compare = top_melb_cafe.groupby(['Suburb'])['Venue Category'].apply(lambda x: x[x.str.contains('Coffee Shop|Café')].count())\n",
    "compare_df = compare.to_frame().reset_index()\n",
    "compare_df.columns = ['Suburb', 'No of Cafes/Coffee Shops']\n",
    "compare_df.index = np.arange(1, len(compare_df)+1)\n",
    "#compare_df.head()"
   ]
  },
  {
   "cell_type": "code",
   "execution_count": null,
   "metadata": {},
   "outputs": [],
   "source": [
    "list_cafe_no = compare_df['No of Cafes/Coffee Shops'].to_list()\n",
    "\n",
    "\n",
    "fig = plt.figure(figsize=(20,9))\n",
    "bar = sns.barplot(x='Suburb', y='No of Cafes/Coffee Shops', data=compare_df)\n",
    "\n",
    "bar.set_ylabel(\"No of Cafes/Coffee Shops\", fontsize=14)\n",
    "bar.set_xlabel(\"Melbourne Suburbs\", fontsize=14)\n",
    "bar.set_xticklabels(bar.get_xticklabels(),rotation=40)\n",
    "bar.set_title(\"Number of Cafes/Cofee Shops in Each of the Top Suburbs\", fontsize=14)\n",
    "#plt.savefig(\"No_of_Cafes_in_Melb.png\", dpi=240)\n",
    "plt.show()\n",
    "print (list_cafe_no)"
   ]
  },
  {
   "cell_type": "markdown",
   "metadata": {},
   "source": [
    "##   "
   ]
  },
  {
   "cell_type": "markdown",
   "metadata": {},
   "source": [
    "## 3) Exploring the Coffee Scene in the Top 10 Suburbs"
   ]
  },
  {
   "cell_type": "markdown",
   "metadata": {},
   "source": [
    "### Now, lets focus on the more populated suburbs listed earlier and create a dataframe of all cafes around the Top 10 Suburbs:"
   ]
  },
  {
   "cell_type": "code",
   "execution_count": null,
   "metadata": {
    "scrolled": true
   },
   "outputs": [],
   "source": [
    "# Calling the function above:\n",
    "top_sub_venues = getNearbyVenues(names=melb_merged['Suburb'],\n",
    "                                   latitudes=melb_merged['Latitude'],\n",
    "                                   longitudes=melb_merged['Longitude']\n",
    "                                  )\n",
    "\n",
    "# check size of dataframe:\n",
    "print(top_sub_venues.shape)\n",
    "\n",
    "# how many unique categories\n",
    "print('\\n\\nThere are {} uniques categories.'.format(len(top_sub_venues['Venue Category'].unique())))"
   ]
  },
  {
   "cell_type": "code",
   "execution_count": null,
   "metadata": {
    "scrolled": true
   },
   "outputs": [],
   "source": [
    "# Dataframe of all venues within 500m radius of each of the Top 10 Suburbs:\n",
    "top_sub_venues"
   ]
  },
  {
   "cell_type": "markdown",
   "metadata": {},
   "source": [
    "#### Since we're looking for a good location to open a cafe, lets create a dataframe to concentrate just on that: "
   ]
  },
  {
   "cell_type": "code",
   "execution_count": null,
   "metadata": {
    "scrolled": true
   },
   "outputs": [],
   "source": [
    "# creating a dataframe of all cafes around the top 10 suburbs: \n",
    "top_sub_cafe = top_sub_venues[top_sub_venues['Venue Category'].str.contains('Coffee Shop|Café|Cafe')].reset_index(drop=True)\n",
    "\n",
    "print(top_sub_cafe.shape)\n",
    "top_sub_cafe"
   ]
  },
  {
   "cell_type": "markdown",
   "metadata": {},
   "source": [
    "**Assumption: The client is interested in opening a cafe that emphasizes on the quality of their coffee. Thus in this project, Cafés and Coffee Shops were considered to be in the same category.**"
   ]
  },
  {
   "cell_type": "markdown",
   "metadata": {},
   "source": [
    "#### Let's visualize these cafes on the map"
   ]
  },
  {
   "cell_type": "code",
   "execution_count": null,
   "metadata": {},
   "outputs": [],
   "source": [
    "map_cafes = folium.Map(location=[latitude, longitude], zoom_start=13)\n",
    "\n",
    "# Setting colour schemes for the venues: \n",
    "suburbs = ['Melbourne (CBD)', 'Southbank', 'Carlton', 'North Melbourne', 'Docklands', 'Kensington', 'Parkville', 'East Melbourne', 'South Yarra', 'Port Melbourne']\n",
    "\n",
    "#x = np.arrange(len(suburbs))\n",
    "           \n",
    "rainbow = ['red', 'blue', 'darkred', 'orange', 'green', 'darkgreen', 'cadetblue', 'purple', 'pink', 'darkpurple']\n",
    "\n",
    "# add markers to map\n",
    "for lat, lon, poi, sub in zip(top_sub_cafe['Venue Latitude'], \n",
    "                                  top_sub_cafe['Venue Longitude'], \n",
    "                                  top_sub_cafe['Venue Category'], \n",
    "                                  top_sub_cafe['Suburb']):\n",
    "    label = folium.Popup(str(poi) + ' ' + str(sub), parse_html=True)\n",
    "    folium.CircleMarker(\n",
    "        [lat, lon],\n",
    "        radius=7,\n",
    "        popup=label,\n",
    "        color=rainbow[suburbs.index(sub)-1],\n",
    "        fill=True,\n",
    "        fill_color=rainbow[suburbs.index(sub)-1],\n",
    "        fill_opacity=0.3).add_to(map_cafes)\n",
    "    \n",
    "map_cafes"
   ]
  },
  {
   "cell_type": "code",
   "execution_count": null,
   "metadata": {},
   "outputs": [],
   "source": [
    "print(top_sub_cafe['Venue Category'].value_counts())"
   ]
  },
  {
   "cell_type": "markdown",
   "metadata": {},
   "source": [
    "These suburbs have a total of 53 Cafes and 23 Coffee Shops"
   ]
  },
  {
   "cell_type": "markdown",
   "metadata": {},
   "source": [
    "###    "
   ]
  },
  {
   "cell_type": "markdown",
   "metadata": {},
   "source": [
    "### Lets Find out what are the Top 10 Venues for Each of the Top Suburbs:"
   ]
  },
  {
   "cell_type": "markdown",
   "metadata": {},
   "source": [
    "#### Using One Hot Encoding to get more info on the venue categories:"
   ]
  },
  {
   "cell_type": "code",
   "execution_count": null,
   "metadata": {},
   "outputs": [],
   "source": [
    "# one hot encoding\n",
    "melb_onehot = pd.get_dummies(top_sub_venues[['Venue Category']], prefix=\"\", prefix_sep=\"\")\n",
    "\n",
    "# add neighborhood column back to dataframe\n",
    "melb_onehot['Suburb'] =top_sub_venues['Suburb'] \n",
    "\n",
    "# move neighborhood column to the first column\n",
    "fixed_columns = [melb_onehot.columns[-1]] + list(melb_onehot.columns[:-1])\n",
    "melb_onehot = melb_onehot[fixed_columns]\n",
    "print(\"Shape: \", melb_onehot.shape)\n",
    "#melb_onehot.head()"
   ]
  },
  {
   "cell_type": "code",
   "execution_count": null,
   "metadata": {
    "scrolled": true
   },
   "outputs": [],
   "source": [
    "# Group rows by neighborhood and by taking the mean of the frequency of occurrence of each category:\n",
    "melb_grouped = melb_onehot.groupby('Suburb').mean().reset_index()\n",
    "print(\"Shape: \", melb_grouped.shape)\n",
    "melb_grouped"
   ]
  },
  {
   "cell_type": "markdown",
   "metadata": {},
   "source": [
    "#### Displaying top 10 venues: "
   ]
  },
  {
   "cell_type": "code",
   "execution_count": null,
   "metadata": {},
   "outputs": [],
   "source": [
    "# Writing function to sort venues in descending order: \n",
    "def return_most_common_venues(row, num_top_venues):\n",
    "    row_categories = row.iloc[1:]\n",
    "    row_categories_sorted = row_categories.sort_values(ascending=False)\n",
    "    \n",
    "    return row_categories_sorted.index.values[0:num_top_venues]"
   ]
  },
  {
   "cell_type": "code",
   "execution_count": null,
   "metadata": {
    "scrolled": true
   },
   "outputs": [],
   "source": [
    "num_top_venues = 10\n",
    "\n",
    "indicators = ['st', 'nd', 'rd']\n",
    "\n",
    "# create columns according to number of top venues\n",
    "columns = ['Suburb']\n",
    "for ind in np.arange(num_top_venues):\n",
    "    try:\n",
    "        columns.append('{}{} Most Common Venue'.format(ind+1, indicators[ind]))\n",
    "    except:\n",
    "        columns.append('{}th Most Common Venue'.format(ind+1))\n",
    "\n",
    "# create a new dataframe\n",
    "top_sub_venues_sorted = pd.DataFrame(columns=columns)\n",
    "top_sub_venues_sorted['Suburb'] = melb_grouped['Suburb']\n",
    "\n",
    "for ind in np.arange(melb_grouped.shape[0]):\n",
    "    top_sub_venues_sorted.iloc[ind, 1:] = return_most_common_venues(melb_grouped.iloc[ind, :], num_top_venues)\n",
    "\n",
    "top_sub_venues_sorted"
   ]
  },
  {
   "cell_type": "markdown",
   "metadata": {},
   "source": [
    "By showing what categories are popular in each suburb, we can potentially identify a potential or need for a specific type of service!"
   ]
  },
  {
   "cell_type": "markdown",
   "metadata": {},
   "source": [
    "#### Furthermore, we can compare the number of Cafes/Coffee Shops in each suburb:"
   ]
  },
  {
   "cell_type": "code",
   "execution_count": null,
   "metadata": {},
   "outputs": [],
   "source": [
    "melb_top_cafe = top_sub_cafe.groupby(['Suburb'])['Venue Category'].apply(lambda x: x[x.str.contains('Coffee Shop|Café')].count())\n",
    "melb_top_cafe_df = melb_top_cafe.to_frame().reset_index()\n",
    "melb_top_cafe_df.columns = ['Suburb', 'No of Cafes/Coffee Shops']\n",
    "melb_top_cafe_df.index = np.arange(1, len(melb_top_cafe_df)+1)\n",
    "#melb_top_cafe_df.head()"
   ]
  },
  {
   "cell_type": "code",
   "execution_count": null,
   "metadata": {},
   "outputs": [],
   "source": [
    "list_cafe_no = melb_top_cafe_df['No of Cafes/Coffee Shops'].to_list()\n",
    "print (list_cafe_no)\n",
    "\n",
    "fig = plt.figure(figsize=(12,8))\n",
    "bar = sns.barplot(x='Suburb', y='No of Cafes/Coffee Shops', data=melb_top_cafe_df)\n",
    "\n",
    "bar.set_ylabel(\"No of Cafes/Coffee Shops\", fontsize=14)\n",
    "bar.set_xlabel(\"Top 10 Suburbs in Melbourne\", fontsize=14)\n",
    "bar.set_xticklabels(bar.get_xticklabels(),rotation=40)\n",
    "bar.set_title(\"Number of Cafes/Cofee Shops in Each of the Top Suburbs\", fontsize=14)\n",
    "#plt.savefig(\"No_of_Rest_as_Top_Venues.png\", dpi=240)\n",
    "plt.show()"
   ]
  },
  {
   "cell_type": "markdown",
   "metadata": {},
   "source": [
    "**Note that some suburbs may not appear on the bar chart. This is because the popular spots returned by Foursquare API depends on the foot traffic at the time the API call is made. Therefore we may get slightly different popular venues at different times of the day.**"
   ]
  },
  {
   "cell_type": "markdown",
   "metadata": {},
   "source": [
    "###   "
   ]
  },
  {
   "cell_type": "markdown",
   "metadata": {},
   "source": [
    "## 4) Clustering the suburbs using K-Means"
   ]
  },
  {
   "cell_type": "markdown",
   "metadata": {},
   "source": [
    "### Before clustering, we need to determine the best k value using Elbow Method: "
   ]
  },
  {
   "cell_type": "code",
   "execution_count": null,
   "metadata": {},
   "outputs": [],
   "source": [
    "melb_grouped_clustering = melb_grouped.drop('Suburb', 1)\n",
    "\n",
    "distortions = []\n",
    "inertias = []\n",
    "mapping1 = {}\n",
    "mapping2 = {}\n",
    "K = range(1,10)\n",
    "for k in K: \n",
    "    kmeanModel = KMeans(n_clusters=k, random_state=0).fit(melb_grouped_clustering)\n",
    "    kmeanModel.fit(melb_grouped_clustering)\n",
    "    \n",
    "    distortions.append(sum(np.min(cdist(melb_grouped_clustering, kmeanModel.cluster_centers_, 'euclidean'), axis=1))/ melb_grouped_clustering.shape[0])\n",
    "    inertias.append(kmeanModel.inertia_)\n",
    "    \n",
    "    mapping1[k] = sum(np.min(cdist(melb_grouped_clustering, kmeanModel.cluster_centers_, 'euclidean'), axis=1)) / melb_grouped_clustering.shape[0] \n",
    "    mapping2[k] = kmeanModel.inertia_ "
   ]
  },
  {
   "cell_type": "code",
   "execution_count": null,
   "metadata": {},
   "outputs": [],
   "source": [
    "# Visualizing the results: \n",
    "# a) using diff values of distortion: \n",
    "for key,val in mapping1.items(): \n",
    "    print(str(key)+' : '+str(val))\n",
    "\n",
    "plt.plot(K, distortions, 'bx-') \n",
    "plt.xlabel('Values of K') \n",
    "plt.ylabel('Distortion') \n",
    "plt.title('The Elbow Method using Distortion') \n",
    "plt.show() \n",
    "\n"
   ]
  },
  {
   "cell_type": "code",
   "execution_count": null,
   "metadata": {},
   "outputs": [],
   "source": [
    "# b) using diff values of inertia:\n",
    "\n",
    "for key,val in mapping2.items(): \n",
    "    print(str(key)+' : '+str(val)) \n",
    "\n",
    "plt.plot(K, inertias, 'bx-') \n",
    "plt.xlabel('Values of K') \n",
    "plt.ylabel('Inertia') \n",
    "plt.title('The Elbow Method using Inertia') \n",
    "plt.show() \n"
   ]
  },
  {
   "cell_type": "markdown",
   "metadata": {},
   "source": [
    "Based on the evaluation above, the elbow is located at K=4. We shall thus perform K-Means Cluster with 4 Clusters"
   ]
  },
  {
   "cell_type": "code",
   "execution_count": null,
   "metadata": {},
   "outputs": [],
   "source": []
  },
  {
   "cell_type": "markdown",
   "metadata": {},
   "source": [
    "### Now we can perform K-Means Clustering"
   ]
  },
  {
   "cell_type": "code",
   "execution_count": null,
   "metadata": {},
   "outputs": [],
   "source": [
    "kclusters = 4\n",
    "melb_grouped_clustering = melb_grouped.drop('Suburb', 1)\n",
    "\n",
    "kmeans = KMeans(n_clusters=kclusters, random_state=0).fit(melb_grouped_clustering)\n",
    "print (\"Check Cluster labels :\", kmeans.labels_[0:10]) # checking cluster labels for each row of the dataframe\n",
    "\n",
    "\n",
    "# add clustering labels\n",
    "top_sub_venues_sorted.insert(0, 'Cluster Labels', kmeans.labels_)"
   ]
  },
  {
   "cell_type": "code",
   "execution_count": null,
   "metadata": {
    "scrolled": true
   },
   "outputs": [],
   "source": [
    "# merge Sorted most visited venues in each suburb dataframe with melb_merged to add latitude/longitude for each suburb\n",
    "melb_sub_coord_cluster = melb_merged\n",
    "\n",
    "melb_sub_coord_cluster = melb_sub_coord_cluster.join(top_sub_venues_sorted.set_index('Suburb'), on='Suburb')\n",
    "melb_sub_coord_cluster"
   ]
  },
  {
   "cell_type": "markdown",
   "metadata": {},
   "source": [
    "### Visualize resulting clusters:"
   ]
  },
  {
   "cell_type": "markdown",
   "metadata": {},
   "source": [
    "#### Option 1:"
   ]
  },
  {
   "cell_type": "code",
   "execution_count": null,
   "metadata": {},
   "outputs": [],
   "source": [
    "# create map\n",
    "map_clusters1 = folium.Map(location=[latitude, longitude], zoom_start=11, tiles='cartodbpositron')\n",
    "\n",
    "# set color scheme for the clusters\n",
    "x = np.arange(kclusters)\n",
    "ys = [i + x + (i*x)**2 for i in range(kclusters)]\n",
    "colors_array = cm.rainbow(np.linspace(0, 1, len(ys)))\n",
    "rainbow = [colors.rgb2hex(i) for i in colors_array]\n",
    "\n",
    "# add markers to the map\n",
    "markers_colors = []\n",
    "for lat, lon, poi, cluster in zip(melb_sub_coord_cluster['Latitude'], melb_sub_coord_cluster['Longitude'], melb_sub_coord_cluster['Suburb'], melb_sub_coord_cluster['Cluster Labels']):\n",
    "    label = folium.Popup(str(poi) + ', Cluster ' + str(cluster), parse_html=True)\n",
    "    folium.CircleMarker(\n",
    "        [lat, lon],\n",
    "        radius=10,\n",
    "        popup=label,\n",
    "        color=rainbow[cluster-1],\n",
    "        fill=True,\n",
    "        fill_color=rainbow[cluster-1],\n",
    "        fill_opacity=0.7).add_to(map_clusters1)\n",
    "\n",
    "map_clusters1"
   ]
  },
  {
   "cell_type": "markdown",
   "metadata": {},
   "source": [
    "#### Option 2: Cluster Map with Radius of Clusters Representing No of Cafes/Coffeeshops in Each Suburb"
   ]
  },
  {
   "cell_type": "code",
   "execution_count": null,
   "metadata": {},
   "outputs": [],
   "source": [
    "# create map\n",
    "map_clusters2 = folium.Map(location=[latitude, longitude], zoom_start=11, tiles='cartodbpositron')\n",
    "\n",
    "# set color scheme for the clusters\n",
    "x = np.arange(kclusters)\n",
    "ys = [i + x + (i*x)**2 for i in range(kclusters)]\n",
    "colors_array = cm.rainbow(np.linspace(0, 1, len(ys)))\n",
    "rainbow = [colors.rgb2hex(i) for i in colors_array]\n",
    "suburbs = ['Melbourne (CBD)', 'Southbank', 'Carlton', 'North Melbourne', 'Docklands', 'Kensington', 'Parkville', 'East Melbourne', 'South Yarra', 'Port Melbourne']\n",
    "\n",
    "list_cafe_no_copy = [9, 5, 5, 7, 21, 2, 0, 0, 20, 7]\n",
    "#print (list_rest_no)\n",
    "\n",
    "# add markers to the map\n",
    "markers_colors = []\n",
    "for lat, lon, poi, cluster in zip(melb_sub_coord_cluster['Latitude'], melb_sub_coord_cluster['Longitude'], melb_sub_coord_cluster['Suburb'], melb_sub_coord_cluster['Cluster Labels']):\n",
    "    label = folium.Popup(str(poi) + ', Cluster ' + str(cluster), parse_html=True)\n",
    "    folium.CircleMarker(\n",
    "        [lat, lon],\n",
    "        radius=list_cafe_no_copy[suburbs.index(poi)]*0.5,\n",
    "        popup=label,\n",
    "        color=rainbow[cluster-1],\n",
    "        fill=True,\n",
    "        fill_color=rainbow[cluster-1],\n",
    "        fill_opacity=0.7).add_to(map_clusters2)\n",
    "\n",
    "map_clusters2"
   ]
  },
  {
   "cell_type": "markdown",
   "metadata": {},
   "source": [
    "### Examine the Clusters:"
   ]
  },
  {
   "cell_type": "markdown",
   "metadata": {},
   "source": [
    "We will examine each cluster and determine the discriminating venue categories that distinguish each cluster. Based on the defining categories, we can then assign a name to each cluster."
   ]
  },
  {
   "cell_type": "code",
   "execution_count": null,
   "metadata": {},
   "outputs": [],
   "source": [
    "def total_venue_categories(df):\n",
    "    df_all_venues = df['1st Most Common Venue']\n",
    "    df_all_venues = df_all_venues.append(df['2nd Most Common Venue'])\n",
    "    df_all_venues = df_all_venues.append(df['3rd Most Common Venue'])\n",
    "    df_all_venues = df_all_venues.append(df['4th Most Common Venue'])\n",
    "    df_all_venues = df_all_venues.append(df['5th Most Common Venue'])\n",
    "    df_all_venues = df_all_venues.append(df['6th Most Common Venue'])\n",
    "    df_all_venues = df_all_venues.append(df['7th Most Common Venue'])\n",
    "    df_all_venues = df_all_venues.append(df['8th Most Common Venue'])\n",
    "    df_all_venues = df_all_venues.append(df['9th Most Common Venue'])\n",
    "    df_all_venues = df_all_venues.append(df['10th Most Common Venue'])\n",
    "    df_cnt = df_all_venues.value_counts().to_frame().reset_index()\n",
    "    df_cnt.columns = ['Venue Category', 'Venue Count']\n",
    "    df_cnt.sort_values(by = 'Venue Count', ascending = False)\n",
    "#return the top 10 venue categories\n",
    "    return df_cnt.head(10)"
   ]
  },
  {
   "cell_type": "markdown",
   "metadata": {},
   "source": [
    "#### Cluster 1"
   ]
  },
  {
   "cell_type": "code",
   "execution_count": null,
   "metadata": {
    "scrolled": true
   },
   "outputs": [],
   "source": [
    "Melb_Cluster0 = melb_sub_coord_cluster.loc[melb_sub_coord_cluster['Cluster Labels'] == 0, melb_sub_coord_cluster.columns[[1] + list(range(5, melb_sub_coord_cluster.shape[1]))]]\n",
    "\n",
    "print (\"No of Suburbs in Cluster Label 0: %d\" %(Melb_Cluster0.shape[0]))\n",
    "Melb_Cluster0"
   ]
  },
  {
   "cell_type": "code",
   "execution_count": null,
   "metadata": {},
   "outputs": [],
   "source": [
    "# Counting venue categories in all neighborhoods in the cluster: \n",
    "t0 = total_venue_categories(melb_sub_coord_cluster[melb_sub_coord_cluster['Cluster Labels'] == 0])\n",
    "\n",
    "# Plotting the frequency of the venue categories in the cluster\n",
    "y_pos = np.arange(len(t0['Venue Category']))\n",
    "plt.barh(y_pos, t0['Venue Count'], align='center')\n",
    "plt.yticks(y_pos, t0['Venue Category'])\n",
    "plt.xlabel('Number of venue categories')\n",
    "plt.title('Venue categories in cluster 0')\n",
    " \n",
    "plt.show()\n",
    "\n"
   ]
  },
  {
   "cell_type": "markdown",
   "metadata": {},
   "source": [
    "#### Cluster 2"
   ]
  },
  {
   "cell_type": "code",
   "execution_count": null,
   "metadata": {},
   "outputs": [],
   "source": [
    "Melb_Cluster1 = melb_sub_coord_cluster.loc[melb_sub_coord_cluster['Cluster Labels'] == 1, melb_sub_coord_cluster.columns[[1] + list(range(5, melb_sub_coord_cluster.shape[1]))]]\n",
    "\n",
    "print (\"No of Suburbs in Cluster Label 1: %d\" %(Melb_Cluster1.shape[0]))\n",
    "Melb_Cluster1"
   ]
  },
  {
   "cell_type": "markdown",
   "metadata": {},
   "source": [
    "#### Cluster 3"
   ]
  },
  {
   "cell_type": "code",
   "execution_count": null,
   "metadata": {},
   "outputs": [],
   "source": [
    "Melb_Cluster2 = melb_sub_coord_cluster.loc[melb_sub_coord_cluster['Cluster Labels'] == 2, melb_sub_coord_cluster.columns[[1] + list(range(5, melb_sub_coord_cluster.shape[1]))]]\n",
    "\n",
    "print (\"No of Suburbs in Cluster Label 2: %d\" %(Melb_Cluster2.shape[0]))\n",
    "Melb_Cluster2"
   ]
  },
  {
   "cell_type": "markdown",
   "metadata": {},
   "source": [
    "#### Cluster 4"
   ]
  },
  {
   "cell_type": "code",
   "execution_count": null,
   "metadata": {},
   "outputs": [],
   "source": [
    "Melb_Cluster3 = melb_sub_coord_cluster.loc[melb_sub_coord_cluster['Cluster Labels'] == 3, melb_sub_coord_cluster.columns[[1] + list(range(5, melb_sub_coord_cluster.shape[1]))]]\n",
    "\n",
    "print (\"No of Suburbs in Cluster Label 3: %d\" %(Melb_Cluster3.shape[0]))\n",
    "Melb_Cluster3"
   ]
  },
  {
   "cell_type": "code",
   "execution_count": null,
   "metadata": {},
   "outputs": [],
   "source": [
    "t3 = total_venue_categories(melb_sub_coord_cluster[melb_sub_coord_cluster['Cluster Labels'] == 3])\n",
    "\n",
    "y_pos = np.arange(len(t3['Venue Category']))\n",
    "plt.barh(y_pos, t3['Venue Count'], align='center')\n",
    "plt.yticks(y_pos, t3['Venue Category'])\n",
    "plt.xlabel('Number of venue categories')\n",
    "plt.title('Venue categories in cluster 3')\n",
    " \n",
    "plt.show()"
   ]
  },
  {
   "cell_type": "code",
   "execution_count": null,
   "metadata": {},
   "outputs": [],
   "source": []
  }
 ],
 "metadata": {
  "kernelspec": {
   "display_name": "Python 3",
   "language": "python",
   "name": "python3"
  },
  "language_info": {
   "codemirror_mode": {
    "name": "ipython",
    "version": 3
   },
   "file_extension": ".py",
   "mimetype": "text/x-python",
   "name": "python",
   "nbconvert_exporter": "python",
   "pygments_lexer": "ipython3",
   "version": "3.7.6"
  }
 },
 "nbformat": 4,
 "nbformat_minor": 4
}
